{
 "cells": [
  {
   "cell_type": "markdown",
   "metadata": {},
   "source": [
    "# Marginal association testing"
   ]
  },
  {
   "cell_type": "code",
   "execution_count": null,
   "metadata": {},
   "outputs": [],
   "source": [
    "import matplotlib.pyplot as plt\n",
    "import admix\n",
    "import numpy as np\n",
    "from admix.plot import compare_pval\n",
    "\n",
    "np.random.seed(1)"
   ]
  },
  {
   "cell_type": "code",
   "execution_count": null,
   "metadata": {},
   "outputs": [],
   "source": [
    "# simulate a data set of admixed individuals (with no LD)\n",
    "dset = admix.simulate.admix_geno_simple(\n",
    "    n_indiv=5_000, n_snp=500, n_anc=3, mosaic_size=50, anc_props=[0.5, 0.4, 0.1]\n",
    ")\n",
    "# simulate binary phenotypes\n",
    "sim = admix.simulate.binary_pheno(dset, n_causal=10, hsq=0.1, cor=1.0)"
   ]
  },
  {
   "cell_type": "code",
   "execution_count": null,
   "metadata": {},
   "outputs": [],
   "source": [
    "# pick one simulation\n",
    "sim_i = 1\n",
    "\n",
    "dict_pval = dict()\n",
    "dict_slow_pval = dict()\n",
    "for method in [\"TRACTOR\", \"ATT\", \"ASE\"]:\n",
    "    dict_pval[method] = admix.assoc.marginal(\n",
    "        dset=dset,\n",
    "        pheno=sim[\"pheno\"][:, sim_i],\n",
    "        family=\"logistic\",\n",
    "        method=method,\n",
    "    ).P\n",
    "    dict_slow_pval[method] = admix.assoc.marginal(\n",
    "        dset=dset,\n",
    "        pheno=sim[\"pheno\"][:, sim_i],\n",
    "        family=\"logistic\",\n",
    "        method=method,\n",
    "        fast=False,\n",
    "    ).P"
   ]
  },
  {
   "cell_type": "code",
   "execution_count": null,
   "metadata": {},
   "outputs": [],
   "source": [
    "fig, axes = plt.subplots(figsize=(4, 2), dpi=150, ncols=2)\n",
    "compare_pval(\n",
    "    dict_pval[\"ATT\"], dict_pval[\"TRACTOR\"], xlabel=\"ATT\", ylabel=\"Tractor\", ax=axes[0]\n",
    ")\n",
    "compare_pval(dict_pval[\"ATT\"], dict_pval[\"ASE\"], xlabel=\"ATT\", ylabel=\"ASE\", ax=axes[1])\n",
    "fig.tight_layout()"
   ]
  },
  {
   "cell_type": "markdown",
   "metadata": {},
   "source": [
    "## Consistency between the slow and fast implementation"
   ]
  },
  {
   "cell_type": "code",
   "execution_count": null,
   "metadata": {},
   "outputs": [],
   "source": [
    "fig, axes = plt.subplots(figsize=(6, 2), ncols=3, dpi=150)\n",
    "for i, method in enumerate([\"TRACTOR\", \"ATT\", \"ASE\"]):\n",
    "    compare_pval(\n",
    "        dict_pval[method],\n",
    "        dict_slow_pval[method],\n",
    "        xlabel=method,\n",
    "        ylabel=method + \" (slow)\",\n",
    "        ax=axes[i],\n",
    "    )\n",
    "plt.tight_layout()"
   ]
  }
 ],
 "metadata": {
  "kernelspec": {
   "display_name": "Python 3",
   "language": "python",
   "name": "python3"
  },
  "language_info": {
   "codemirror_mode": {
    "name": "ipython",
    "version": 3
   },
   "file_extension": ".py",
   "mimetype": "text/x-python",
   "name": "python",
   "nbconvert_exporter": "python",
   "pygments_lexer": "ipython3",
   "version": "3.8.5"
  }
 },
 "nbformat": 4,
 "nbformat_minor": 4
}
