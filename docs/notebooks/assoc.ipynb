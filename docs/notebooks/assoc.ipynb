{
 "cells": [
  {
   "cell_type": "markdown",
   "metadata": {},
   "source": [
    "# Marginal association testing"
   ]
  },
  {
   "cell_type": "code",
   "execution_count": null,
   "metadata": {},
   "outputs": [],
   "source": [
    "import matplotlib.pyplot as plt\n",
    "import admix\n",
    "import numpy as np\n",
    "from admix.plot import compare_pval\n",
    "np.random.seed(1)"
   ]
  },
  {
   "cell_type": "code",
   "execution_count": null,
   "metadata": {},
   "outputs": [],
   "source": [
    "# simulate a data set of admixed individuals (with no LD)\n",
    "dset = admix.simulate.admix_geno(\n",
    "    n_indiv=5000, n_snp=200, n_anc=3, mosaic_size=50, anc_props=[0.5, 0.4, 0.1]\n",
    ")\n",
    "# simulate binary phenotypes\n",
    "sim = admix.simulate.binary_pheno(dset, n_causal=10, hsq=0.1, cor=1.0)"
   ]
  },
  {
   "cell_type": "code",
   "execution_count": null,
   "metadata": {},
   "outputs": [],
   "source": [
    "# pick one simulation\n",
    "sim_i = 1\n",
    "\n",
    "pval_tractor = admix.assoc.marginal(\n",
    "    dset=dset,\n",
    "    pheno=sim[\"pheno\"][:, sim_i],\n",
    "    family=\"logistic\",\n",
    "    method=\"TRACTOR\",\n",
    ")\n",
    "\n",
    "pval_tractor_slow = admix.assoc.marginal(\n",
    "    dset=dset,\n",
    "    pheno=sim[\"pheno\"][:, sim_i],\n",
    "    family=\"logistic\",\n",
    "    fast=False,\n",
    "    method=\"TRACTOR\",\n",
    ")\n",
    "\n",
    "pval_att = admix.assoc.marginal(\n",
    "    dset=dset,\n",
    "    pheno=sim[\"pheno\"][:, sim_i],\n",
    "    family=\"logistic\",\n",
    "    method=\"ATT\",\n",
    ")\n",
    "\n",
    "pval_att_slow = admix.assoc.marginal(\n",
    "    dset=dset,\n",
    "    pheno=sim[\"pheno\"][:, sim_i],\n",
    "    family=\"logistic\",\n",
    "    fast=False,\n",
    "    method=\"ATT\",\n",
    ")"
   ]
  },
  {
   "cell_type": "code",
   "execution_count": null,
   "metadata": {},
   "outputs": [],
   "source": [
    "fig, ax = plt.subplots(figsize=(3, 3), dpi=150)\n",
    "compare_pval(pval_att, pval_tractor, label1=\"ATT\", label2=\"Tractor\")"
   ]
  },
  {
   "cell_type": "code",
   "execution_count": null,
   "metadata": {},
   "outputs": [],
   "source": [
    "fig, axes = plt.subplots(figsize=(4, 2), ncols=2, dpi=150)\n",
    "compare_pval(pval_tractor, pval_tractor_slow, label1=\"Tractor\", label2=\"Tractor (slow)\", ax=axes[0])\n",
    "\n",
    "compare_pval(pval_att, pval_att_slow, label1=\"ATT\", label2=\"ATT (slow)\", ax=axes[1])\n",
    "plt.tight_layout()"
   ]
  }
 ],
 "metadata": {
  "kernelspec": {
   "display_name": "Python 3",
   "language": "python",
   "name": "python3"
  },
  "language_info": {
   "codemirror_mode": {
    "name": "ipython",
    "version": 3
   },
   "file_extension": ".py",
   "mimetype": "text/x-python",
   "name": "python",
   "nbconvert_exporter": "python",
   "pygments_lexer": "ipython3",
   "version": "3.8.5"
  }
 },
 "nbformat": 4,
 "nbformat_minor": 4
}
